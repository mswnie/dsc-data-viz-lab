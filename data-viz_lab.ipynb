{
 "cells": [
  {
   "cell_type": "markdown",
   "metadata": {},
   "source": [
    "# Data Visualization - Lab\n",
    "\n",
    "## Introduction\n",
    "This lab will give you some structured practice performing data visualization!\n",
    "\n",
    "## Objectives\n",
    "\n",
    "You will be able to:\n",
    "\n",
    "* Use Matplotlib to create a bar graph\n",
    "* Use Matplotlib to create a scatter plot\n",
    "* Use Matplotlib to create a histogram\n"
   ]
  },
  {
   "cell_type": "code",
   "execution_count": 1,
   "metadata": {},
   "outputs": [],
   "source": [
    "# Run this cell without changes\n",
    "import numpy as np\n",
    "import matplotlib.pyplot as plt\n",
    "%matplotlib inline"
   ]
  },
  {
   "cell_type": "markdown",
   "metadata": {},
   "source": [
    "## Exercise 1\n",
    "\n",
    "Make a vertical bar graph using `ax.bar()` for the following set of data:\n",
    "\n",
    "> Jim's Video Library contains 40 crime, 30 science fiction, 10 drama, 50 comedy, 25 action and 5 documentary movies.\n",
    "\n",
    "* Set x-axis (genres) and y-axis (number of movies)\n",
    "* Plot and label the bar graph\n",
    "* Provide a suitable title\n",
    "* Label x and y-axis\n",
    "\n",
    "Notes:\n",
    "\n",
    "1. We are asking you to \"hard-code\" the numbers listed above into Python. There is no file or other data source to open.\n",
    "2. `x` and `height` must be iterables of numbers, so `x` should just be 6 evenly-spaced numbers. To set the labels of \"crime\" etc. pass the `labels` into the `.bar()` function using the `tick_label` argument.\n",
    "\n",
    "The graph you create should look like this:\n",
    "\n",
    "![bar graph](https://curriculum-content.s3.amazonaws.com/data-science/images/bar_chart.png)"
   ]
  },
  {
   "cell_type": "code",
   "execution_count": 6,
   "metadata": {},
   "outputs": [
    {
     "data": {
      "text/plain": [
       "array([ 0, 10, 20, 30, 40, 50])"
      ]
     },
     "execution_count": 6,
     "metadata": {},
     "output_type": "execute_result"
    }
   ],
   "source": [
    "np.arange(0, 60, 10)"
   ]
  },
  {
   "cell_type": "code",
   "execution_count": 8,
   "metadata": {},
   "outputs": [
    {
     "data": {
      "text/plain": [
       "['Crime', 'Sci/Fi', 'Drama', 'Comedy', 'Action', 'Documentary']"
      ]
     },
     "execution_count": 8,
     "metadata": {},
     "output_type": "execute_result"
    }
   ],
   "source": [
    "video_library = { 'Crime': 40, 'Sci/Fi': 30, 'Drama': 10, 'Comedy': 50, 'Action': 25, 'Documentary': 5}\n",
    "height = list(video_library.values())\n",
    "x = np.arange(0, 60, 10)\n",
    "labels = list(video_library.keys())\n"
   ]
  },
  {
   "cell_type": "code",
   "execution_count": 9,
   "metadata": {},
   "outputs": [
    {
     "data": {
      "image/png": "[encoded data removed]",
      "text/plain": [
       "<Figure size 576x432 with 1 Axes>"
      ]
     },
     "metadata": {
      "needs_background": "light"
     },
     "output_type": "display_data"
    }
   ],
   "source": [
    "# Replace None with appropriate code\n",
    "video_library = { 'Crime': 40, 'Sci/Fi': 30, 'Drama': 10, 'Comedy': 50, 'Action': 25, 'Documentary': 5}\n",
    "height = list(video_library.values())\n",
    "x = np.arange(0, 60, 10)\n",
    "labels = list(video_library.keys())\n",
    "\n",
    "# Create the plot\n",
    "fig, ax = plt.subplots(figsize=(8, 6))\n",
    "\n",
    "# Plot vertical bars of fixed width by passing x and height values to .bar() function \n",
    "ax.bar(labels, height, edgecolor='k')\n",
    "ax.set_xlabel('Genres')\n",
    "ax.set_ylabel('Number of Movies')\n",
    "ax.set_title(\"Jim's Video Library\");\n",
    "# Give a title to the bar graph and label the axes\n",
    "None\n",
    "None\n",
    "None"
   ]
  },
  {
   "cell_type": "markdown",
   "metadata": {},
   "source": [
    "## Exercise 2\n",
    "\n",
    "The table shows the data collected by a Consumer Products Group on the relationship between the weight of a car and its average gas mileage.\n",
    "\n",
    "      Car Type  Weight\tmiles per gallon\n",
    "        A\t    2750\t   29\n",
    "        B\t    3125\t   23\n",
    "        C\t    2100\t   33\n",
    "        D\t    4082\t   18\n",
    "        E\t    2690\t   20\n",
    "        F\t    3640\t   21\n",
    "        G\t    4380\t   14\n",
    "        H\t    2241\t   25\n",
    "        I\t    2895\t   31\n",
    "        J\t    3659\t   17\n",
    "        \n",
    "* Use a scatter plot to show the relationship between mpg and weight of a car using `.scatter()`\n",
    "* Set appropriate labels for axes\n",
    "* Give a title to the plot\n",
    "* Create a legend\n",
    "\n",
    "Looking the scatter plot, think about: how would you describe the relationship between these two attributes?\n",
    "\n",
    "The graph you create should look like this:\n",
    "\n",
    "![scatter plot](https://curriculum-content.s3.amazonaws.com/data-science/images/scatter_plot.png)"
   ]
  },
  {
   "cell_type": "code",
   "execution_count": 12,
   "metadata": {},
   "outputs": [
    {
     "data": {
      "image/png": "[encoded data removed]",
      "text/plain": [
       "<Figure size 720x576 with 1 Axes>"
      ]
     },
     "metadata": {
      "needs_background": "light"
     },
     "output_type": "display_data"
    }
   ],
   "source": [
    "# Replace None with appropriate code\n",
    "\n",
    "weight = [2750, 3125, 2100, 4082, 2690, 3640, 4380, 2241, 2895, 3659]\n",
    "mpg = [29, 23, 33, 28, 20, 21, 14, 25, 31, 17]\n",
    "\n",
    "# Create the plot\n",
    "fig, ax = plt.subplots(figsize=(10,8))\n",
    "\n",
    "# Plot with scatter()\n",
    "ax.scatter(weight, mpg, color='red', label='weight vs. mileage')\n",
    "ax.set_xlabel('Car weight')\n",
    "ax.set_ylabel('Miles per Gallon')\n",
    "ax.set_title('Consumer Cars')\n",
    "ax.legend();\n",
    "\n",
    "# Set x and y axes labels, legend, and title\n",
    "None\n",
    "None\n",
    "None\n",
    "None"
   ]
  },
  {
   "cell_type": "markdown",
   "metadata": {},
   "source": [
    "**Additional Inference: Correlation**\n",
    "\n",
    "* The scatter plot above shows a low negative correlation between the weight of the car and its average gas mileage"
   ]
  },
  {
   "cell_type": "markdown",
   "metadata": {},
   "source": [
    "## Exercise 3\n",
    "\n",
    "Joe is the branch manager at a bank. Recently, Joe has been receiving customer feedback saying that the waiting times for clients to be served by customer service representatives are too long. Joe decides to observe and write down the time spent waiting by each customer. Here are his findings from observing and writing down the wait times (in seconds), spent by 20 customers:\n",
    "\n",
    "43.1, 35.6, 37.5, 36.5, 45.3, 43.4, 40.3, 50.2, 47.3, 31.2, 42.2, 45.5, 30.3, 31.4, 35.6, 45.2, 54.1, 45.6, 36.5, 43.1\n",
    "\n",
    "* Build a histogram of these values using the `hist()` function. Use `bins=5` to represent the 20 data points\n",
    "* Plot, label and give a title as above. \n",
    "\n",
    "The graph you create should look like this:\n",
    "\n",
    "![histogram](https://curriculum-content.s3.amazonaws.com/data-science/images/histogram.png)"
   ]
  },
  {
   "cell_type": "code",
   "execution_count": 15,
   "metadata": {},
   "outputs": [
    {
     "data": {
      "image/png": "[encoded data removed]",
      "text/plain": [
       "<Figure size 576x432 with 1 Axes>"
      ]
     },
     "metadata": {
      "needs_background": "light"
     },
     "output_type": "display_data"
    }
   ],
   "source": [
    "# Replace None with appropriate code\n",
    "\n",
    "x = [43.1, 35.6, 37.5, 36.5, 45.3, 43.4, \n",
    "     40.3, 50.2, 47.3, 31.2, 42.2, 45.5, \n",
    "     30.3, 31.4, 35.6, 45.2, 54.1, 45.6, \n",
    "     36.5, 43.1]\n",
    "\n",
    "# Create the plot\n",
    "fig, ax = plt.subplots(figsize=(8,6))\n",
    "\n",
    "# Plot the histogram with hist() function\n",
    "ax.hist(x, bins=5, color='purple', edgecolor='black')\n",
    "ax.set_xlabel('Waiting Time')\n",
    "ax.set_ylabel('Number of Customers')\n",
    "ax.set_title('Customer Waiting Times');\n",
    "\n",
    "# Label axes and set title\n",
    "None\n",
    "None\n",
    "None"
   ]
  },
  {
   "cell_type": "markdown",
   "metadata": {},
   "source": [
    "## Summary\n",
    "\n",
    "In this lab, you got some good practice working with creating plots in Python using Matplotlib."
   ]
  }
 ],
 "metadata": {
  "kernelspec": {
   "display_name": "Python (learn env)",
   "language": "python",
   "name": "learn-env"
  },
  "language_info": {
   "codemirror_mode": {
    "name": "ipython",
    "version": 3
   },
   "file_extension": ".py",
   "mimetype": "text/x-python",
   "name": "python",
   "nbconvert_exporter": "python",
   "pygments_lexer": "ipython3",
   "version": "3.8.5"
  }
 },
 "nbformat": 4,
 "nbformat_minor": 2
}
